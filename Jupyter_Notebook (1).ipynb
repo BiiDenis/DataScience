{
 "cells": [
  {
   "cell_type": "markdown",
   "metadata": {},
   "source": [
    "<center>\n",
    "    <img src=\"https://cf-courses-data.s3.us.cloud-object-storage.appdomain.cloud/IBMDeveloperSkillsNetwork-DS0105EN-SkillsNetwork/labs/Module2/images/SN_web_lightmode.png\" width=\"300\" alt=\"cognitiveclass.ai logo\">\n",
    "</center>\n"
   ]
  },
  {
   "cell_type": "markdown",
   "metadata": {},
   "source": [
    "#### Tools for Data science\n"
   ]
  },
  {
   "cell_type": "markdown",
   "metadata": {},
   "source": [
    "## Introduction\n",
    "\n",
    "In this notebook, we will explore various tools and libraries used in data science. Data science is an interdisciplinary field that combines programming, statistics, and machine learning to analyze and interpret complex data. Understanding these tools is essential for conducting efficient and scalable data analysis.\n",
    "\n",
    "This notebook will showcase key data science tools, languages, and libraries while demonstrating fundamental coding concepts in Jupyter Notebook.\n"
   ]
  },
  {
   "cell_type": "markdown",
   "metadata": {},
   "source": [
    "### Data science languages\n",
    "- python\n",
    "- R\n",
    "- Julia\n",
    "- C++\n",
    "- SQL\n",
    "- Java\n",
    "- Go\n",
    "- Java Script"
   ]
  },
  {
   "cell_type": "markdown",
   "metadata": {},
   "source": [
    "### Data science libraries\n",
    "- Numpy\n",
    "- SciPy\n",
    "- scikit-learn\n",
    "- TensorFlow\n",
    "- keras\n",
    "- matplotlib\n",
    "- PyTorch"
   ]
  },
  {
   "cell_type": "markdown",
   "metadata": {},
   "source": [
    "| Data Science Tool | Description |\n",
    "|------------------|-------------|\n",
    "| Jupyter Notebook | Interactive computing notebook for writing and executing code |\n",
    "| RStudio | Integrated development environment for R programming |\n",
    "| Apache Spark | Distributed computing system for big data processing |\n",
    "| TensorFlow | Open-source machine learning framework |\n",
    "| Power BI | Business analytics tool for interactive visualizations |\n"
   ]
  },
  {
   "cell_type": "markdown",
   "metadata": {},
   "source": [
    "## Arithmetic Expression Examples\n",
    "\n",
    "Arithmetic expressions are used in programming and data analysis to perform mathematical calculations. Some common arithmetic operations include:\n",
    "\n",
    "- **Addition (`+`)**: Adds two numbers together (e.g., `3 + 5 = 8`).\n",
    "- **Subtraction (`-`)**: Finds the difference between two numbers (e.g., `10 - 4 = 6`).\n",
    "- **Multiplication (`*`)**: Multiplies two numbers (e.g., `6 * 7 = 42`).\n",
    "- **Division (`/`)**: Divides one number by another (e.g., `20 / 4 = 5`).\n",
    "- **Exponentiation (`**`)**: Raises a number to a power (e.g., `2 ** 3 = 8`).\n",
    "\n",
    "These expressions are fundamental in programming and data science calculations.\n"
   ]
  },
  {
   "cell_type": "code",
   "execution_count": 1,
   "metadata": {},
   "outputs": [
    {
     "name": "stdout",
     "output_type": "stream",
     "text": [
      "Multiplication: 5 * 3 = 15\n",
      "Addition: 5 + 3 = 8\n"
     ]
    }
   ],
   "source": [
    "# Define numbers\n",
    "a = 5\n",
    "b = 3\n",
    "\n",
    "# Perform multiplication\n",
    "multiplication_result = a * b\n",
    "\n",
    "# Perform addition\n",
    "addition_result = a + b\n",
    "\n",
    "# Display results\n",
    "print(f\"Multiplication: {a} * {b} = {multiplication_result}\")\n",
    "print(f\"Addition: {a} + {b} = {addition_result}\")\n"
   ]
  },
  {
   "cell_type": "code",
   "execution_count": 2,
   "metadata": {},
   "outputs": [
    {
     "name": "stdout",
     "output_type": "stream",
     "text": [
      "120 minutes is equal to 2.0 hours.\n"
     ]
    }
   ],
   "source": [
    "# Define the number of minutes\n",
    "minutes = 120\n",
    "\n",
    "# Convert minutes to hours\n",
    "hours = minutes / 60\n",
    "\n",
    "# Display the result\n",
    "print(f\"{minutes} minutes is equal to {hours} hours.\")\n"
   ]
  },
  {
   "cell_type": "markdown",
   "metadata": {},
   "source": [
    "## Objectives\n",
    "\n",
    "In this notebook, we will:\n",
    "- Understand key concepts in data science.\n",
    "- Explore commonly used data science tools.\n",
    "- Learn about popular data science languages and libraries.\n",
    "- Demonstrate arithmetic expressions with Python.\n",
    "- Convert minutes to hours using simple calculations.\n",
    "- Share our work using Jupyterlite Notebook and GitHub.\n",
    "\n",
    "These objectives outline the key learning outcomes of this assignment.\n"
   ]
  },
  {
   "cell_type": "markdown",
   "metadata": {},
   "source": [
    "## Author\n",
    "\n",
    "**Name:** Denis  \n",
    "**Course:** Tools for Data Science  \n",
    "**Platform:** Coursera  \n"
   ]
  },
  {
   "cell_type": "code",
   "execution_count": null,
   "metadata": {},
   "outputs": [],
   "source": []
  }
 ],
 "metadata": {
  "kernelspec": {
   "display_name": "Python 3 (ipykernel)",
   "language": "python",
   "name": "python3"
  },
  "language_info": {
   "codemirror_mode": {
    "name": "ipython",
    "version": 3
   },
   "file_extension": ".py",
   "mimetype": "text/x-python",
   "name": "python",
   "nbconvert_exporter": "python",
   "pygments_lexer": "ipython3",
   "version": "3.12.8"
  }
 },
 "nbformat": 4,
 "nbformat_minor": 4
}
